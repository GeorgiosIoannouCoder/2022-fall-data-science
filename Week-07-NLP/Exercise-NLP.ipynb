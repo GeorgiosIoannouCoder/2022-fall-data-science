{
 "cells": [
  {
   "cell_type": "markdown",
   "metadata": {},
   "source": [
    "# Ioannou_Georgios\n"
   ]
  },
  {
   "cell_type": "markdown",
   "metadata": {},
   "source": [
    "## Copyright © 2022 by Georgios Ioannou\n"
   ]
  },
  {
   "cell_type": "markdown",
   "metadata": {},
   "source": [
    "___\n",
    "<h1 align=\"center\"> Natural Language Processing </h1>\n",
    "\n",
    "> For todays exersice we will be doing __two things__.  The first is to build the same model with the same data that we did in the lecture, the second will be to build a new model with new data. \n",
    "\n",
    "> ## PART 1: \n",
    ">> 20 Newsgroups Corpus\n",
    "\n",
    "\n",
    "> ## PART 2:\n",
    ">> Republican vs Democrat Tweet Classifier\n"
   ]
  },
  {
   "cell_type": "markdown",
   "metadata": {},
   "source": [
    "___\n",
    "<h2 align=\"center\"> Libraries </h2>\n"
   ]
  },
  {
   "cell_type": "code",
   "execution_count": 1,
   "metadata": {},
   "outputs": [
    {
     "name": "stderr",
     "output_type": "stream",
     "text": [
      "[nltk_data] Downloading package stopwords to\n",
      "[nltk_data]     C:\\Users\\GEORGIOS\\AppData\\Roaming\\nltk_data...\n",
      "[nltk_data]   Package stopwords is already up-to-date!\n",
      "[nltk_data] Downloading package punkt to\n",
      "[nltk_data]     C:\\Users\\GEORGIOS\\AppData\\Roaming\\nltk_data...\n",
      "[nltk_data]   Package punkt is already up-to-date!\n",
      "[nltk_data] Downloading package wordnet to\n",
      "[nltk_data]     C:\\Users\\GEORGIOS\\AppData\\Roaming\\nltk_data...\n",
      "[nltk_data]   Package wordnet is already up-to-date!\n"
     ]
    }
   ],
   "source": [
    "# Import libraries.\n",
    "\n",
    "# Import pandas for data handling.\n",
    "import pandas as pd\n",
    "\n",
    "# NLTK is our Natural-Language-Took-Kit.\n",
    "import nltk\n",
    "from nltk.corpus import stopwords\n",
    "from nltk import word_tokenize\n",
    "from nltk.stem import PorterStemmer\n",
    "from nltk.stem import WordNetLemmatizer\n",
    "from nltk.corpus import wordnet\n",
    "\n",
    "# Libraries for helping us with strings.\n",
    "import string\n",
    "\n",
    "# Regular Expression Library.\n",
    "import re\n",
    "\n",
    "# Import our text vectorizers.\n",
    "from sklearn.feature_extraction.text import CountVectorizer\n",
    "from sklearn.feature_extraction.text import TfidfVectorizer\n",
    "\n",
    "# Import our classifiers.\n",
    "from sklearn.naive_bayes import MultinomialNB\n",
    "from sklearn.ensemble import RandomForestClassifier\n",
    "\n",
    "# Import some ML helper function.\n",
    "from sklearn.model_selection import train_test_split\n",
    "from sklearn.metrics import ConfusionMatrixDisplay\n",
    "from sklearn.metrics import classification_report\n",
    "from sklearn.model_selection import GridSearchCV # helper function for hyper-parameter turning.\n",
    "\n",
    "# Import our metrics to evaluate our model.\n",
    "from sklearn import metrics\n",
    "from sklearn.metrics import classification_report\n",
    "\n",
    "# Library for plotting.\n",
    "import matplotlib.pyplot as plt\n",
    "import seaborn as sns\n",
    "\n",
    "# Download packages from nltk.\n",
    "nltk.download('stopwords')\n",
    "nltk.download('punkt')\n",
    "nltk.download('wordnet')\n",
    "stopwords = stopwords.words('english')\n"
   ]
  },
  {
   "cell_type": "markdown",
   "metadata": {},
   "source": [
    "___\n",
    "<h2 align=\"center\"> Remember our main steps motto \"ISBE\". </h2>\n",
    "\n",
    "<h3 align=\"center\"> Main Steps when building a Machine Learning Model. </h3>\n",
    "\n",
    "1. <b>I</b> - Inspect and explore data.\n",
    "2. <b>S</b> - Select and engineer features.\n",
    "3. <b>B</b> - Build and train model.\n",
    "4. <b>E</b> - Evaluate model.\n"
   ]
  },
  {
   "cell_type": "markdown",
   "metadata": {},
   "source": [
    "___\n",
    "# PART 1: 20 Newsgroups Corpus\n"
   ]
  },
  {
   "cell_type": "markdown",
   "metadata": {},
   "source": [
    "___\n",
    "## #1 Inspect and Explore Data\n",
    "\n",
    "1. Load the 20-newsgroups.csv data into a dataframe.\n",
    "2. Print the shape.\n",
    "3. Inspect / remove nulls and duplicates.\n",
    "4. Find class balances, print out how many of each topic_category there are.\n"
   ]
  },
  {
   "cell_type": "code",
   "execution_count": 2,
   "metadata": {},
   "outputs": [
    {
     "data": {
      "text/html": [
       "<div>\n",
       "<style scoped>\n",
       "    .dataframe tbody tr th:only-of-type {\n",
       "        vertical-align: middle;\n",
       "    }\n",
       "\n",
       "    .dataframe tbody tr th {\n",
       "        vertical-align: top;\n",
       "    }\n",
       "\n",
       "    .dataframe thead th {\n",
       "        text-align: right;\n",
       "    }\n",
       "</style>\n",
       "<table border=\"1\" class=\"dataframe\">\n",
       "  <thead>\n",
       "    <tr style=\"text-align: right;\">\n",
       "      <th></th>\n",
       "      <th>id</th>\n",
       "      <th>message</th>\n",
       "      <th>topic</th>\n",
       "      <th>topic_category</th>\n",
       "    </tr>\n",
       "  </thead>\n",
       "  <tbody>\n",
       "    <tr>\n",
       "      <th>0</th>\n",
       "      <td>0</td>\n",
       "      <td>From: lerxst@wam.umd.edu (where's my thing)\\r\\...</td>\n",
       "      <td>7</td>\n",
       "      <td>rec.autos</td>\n",
       "    </tr>\n",
       "    <tr>\n",
       "      <th>1</th>\n",
       "      <td>1</td>\n",
       "      <td>From: guykuo@carson.u.washington.edu (Guy Kuo)...</td>\n",
       "      <td>4</td>\n",
       "      <td>comp.sys.mac.hardware</td>\n",
       "    </tr>\n",
       "    <tr>\n",
       "      <th>2</th>\n",
       "      <td>2</td>\n",
       "      <td>From: twillis@ec.ecn.purdue.edu (Thomas E Will...</td>\n",
       "      <td>4</td>\n",
       "      <td>comp.sys.mac.hardware</td>\n",
       "    </tr>\n",
       "    <tr>\n",
       "      <th>3</th>\n",
       "      <td>3</td>\n",
       "      <td>From: jgreen@amber (Joe Green)\\r\\nSubject: Re:...</td>\n",
       "      <td>1</td>\n",
       "      <td>comp.graphics</td>\n",
       "    </tr>\n",
       "    <tr>\n",
       "      <th>4</th>\n",
       "      <td>4</td>\n",
       "      <td>From: jcm@head-cfa.harvard.edu (Jonathan McDow...</td>\n",
       "      <td>14</td>\n",
       "      <td>sci.space</td>\n",
       "    </tr>\n",
       "  </tbody>\n",
       "</table>\n",
       "</div>"
      ],
      "text/plain": [
       "   id                                            message  topic  \\\n",
       "0   0  From: lerxst@wam.umd.edu (where's my thing)\\r\\...      7   \n",
       "1   1  From: guykuo@carson.u.washington.edu (Guy Kuo)...      4   \n",
       "2   2  From: twillis@ec.ecn.purdue.edu (Thomas E Will...      4   \n",
       "3   3  From: jgreen@amber (Joe Green)\\r\\nSubject: Re:...      1   \n",
       "4   4  From: jcm@head-cfa.harvard.edu (Jonathan McDow...     14   \n",
       "\n",
       "          topic_category  \n",
       "0              rec.autos  \n",
       "1  comp.sys.mac.hardware  \n",
       "2  comp.sys.mac.hardware  \n",
       "3          comp.graphics  \n",
       "4              sci.space  "
      ]
     },
     "execution_count": 2,
     "metadata": {},
     "output_type": "execute_result"
    }
   ],
   "source": [
    "# 1. Load the 20-newsgroups.csv data into a dataframe.\n",
    "\n",
    "# Read the file 20-newsgroups.csv located inside the data folder and then load the data.\n",
    "df = pd.read_csv('data/20-newsgroups.csv')\n",
    "\n",
    "# Print/Display/Return the first 5 rows of the file 20-newsgroups.csv to make sure the file was loaded successfully.\n",
    "df.head()\n"
   ]
  },
  {
   "cell_type": "code",
   "execution_count": 3,
   "metadata": {},
   "outputs": [
    {
     "data": {
      "text/plain": [
       "(11314, 4)"
      ]
     },
     "execution_count": 3,
     "metadata": {},
     "output_type": "execute_result"
    }
   ],
   "source": [
    "# 2. Print the shape.\n",
    "\n",
    "df.shape\n"
   ]
  },
  {
   "cell_type": "code",
   "execution_count": 4,
   "metadata": {},
   "outputs": [
    {
     "name": "stdout",
     "output_type": "stream",
     "text": [
      "NULLS\n",
      "id                0\n",
      "message           0\n",
      "topic             0\n",
      "topic_category    0\n",
      "dtype: int64 \n",
      "\n",
      "Duplicates\n",
      "df.duplicated().sum() = 0\n"
     ]
    }
   ],
   "source": [
    "# 3. Inspect / remove nulls and duplicates.\n",
    "\n",
    "print('NULLS')\n",
    "print(df.isnull().sum(), '\\n')\n",
    "print('Duplicates')\n",
    "print('df.duplicated().sum() =', df.duplicated().sum())\n"
   ]
  },
  {
   "cell_type": "code",
   "execution_count": 5,
   "metadata": {},
   "outputs": [
    {
     "name": "stdout",
     "output_type": "stream",
     "text": [
      "Class Balances\n"
     ]
    },
    {
     "data": {
      "text/plain": [
       "rec.sport.hockey            600\n",
       "soc.religion.christian      599\n",
       "rec.motorcycles             598\n",
       "rec.sport.baseball          597\n",
       "sci.crypt                   595\n",
       "rec.autos                   594\n",
       "sci.med                     594\n",
       "comp.windows.x              593\n",
       "sci.space                   593\n",
       "comp.os.ms-windows.misc     591\n",
       "sci.electronics             591\n",
       "comp.sys.ibm.pc.hardware    590\n",
       "misc.forsale                585\n",
       "comp.graphics               584\n",
       "comp.sys.mac.hardware       578\n",
       "talk.politics.mideast       564\n",
       "talk.politics.guns          546\n",
       "alt.atheism                 480\n",
       "talk.politics.misc          465\n",
       "talk.religion.misc          377\n",
       "Name: topic_category, dtype: int64"
      ]
     },
     "execution_count": 5,
     "metadata": {},
     "output_type": "execute_result"
    }
   ],
   "source": [
    "# 4. Find class balances, print out how many of each topic_category there are.\n",
    "\n",
    "print('Class Balances')\n",
    "df.topic_category.value_counts()\n"
   ]
  },
  {
   "cell_type": "markdown",
   "metadata": {},
   "source": [
    "___\n",
    "## #2 Select and Engineer Features\n",
    "\n",
    "1. Text pre-processing.\n",
    "2. Text vectorization.\n",
    "3. Split our data into training and testing sets."
   ]
  },
  {
   "cell_type": "markdown",
   "metadata": {},
   "source": [
    "### #2.1 Text Pre-Processing (aka Feature engineering)\n",
    "\n",
    "1. Make a function that makes all text lowercase. __(Lowercase all words)__\n",
    "    * Do a sanity check by feeding in a test sentence into the function.\n",
    "\n",
    "2. Make a function that removes all punctuation. __(Remove all punctuation)__\n",
    "    * Do a sanity check by feeding in a test sentence into the function.\n",
    "\n",
    "3. Make a function that removes all stopwords. __(Remove all stopwords)__\n",
    "    * Do a sanity check by feeding in a test sentence into the function.\n",
    "\n",
    "4. EXTRA CREDIT (This step only): Make a function that breaks words into their stem words. __(Stem words)__\n",
    "\n",
    "5. Mandatory: Make a pipeline function that applies all the text processing functions you just built. __(Create pipeline function)__\n",
    "    * Do a sanity check by feeding in a test sentence into the pipeline.\n",
    "\n",
    "6. Mandatory: Use `df['message_clean'] = df[column].apply(???)` and apply the text pipeline to your text data column. __(Use pipeline function)__\n"
   ]
  },
  {
   "cell_type": "code",
   "execution_count": 6,
   "metadata": {},
   "outputs": [
    {
     "data": {
      "text/plain": [
       "'this is a sentence with lots of caps.'"
      ]
     },
     "execution_count": 6,
     "metadata": {},
     "output_type": "execute_result"
    }
   ],
   "source": [
    "# 1. Make a function that makes all text lowercase.\n",
    "\n",
    "def make_lowercase(input_string):\n",
    "    return input_string.lower()\n",
    "\n",
    "\n",
    "test_string = 'This is A SENTENCE with LOTS OF CAPS.'\n",
    "make_lowercase(test_string)\n"
   ]
  },
  {
   "cell_type": "code",
   "execution_count": 7,
   "metadata": {},
   "outputs": [
    {
     "data": {
      "text/plain": [
       "'This is a sentence 50 With lots of punctuation  other things'"
      ]
     },
     "execution_count": 7,
     "metadata": {},
     "output_type": "execute_result"
    }
   ],
   "source": [
    "# 2. Make a function that removes all punctuation.\n",
    "\n",
    "def remove_punctuation(input_string):    \n",
    "    input_string = re.sub(r'[^\\w\\s]','',input_string)\n",
    "    return input_string\n",
    "\n",
    "\n",
    "test_string = 'This is a sentence! 50 With lots of punctuation??? & other #things.'\n",
    "remove_punctuation(test_string)\n"
   ]
  },
  {
   "cell_type": "code",
   "execution_count": 8,
   "metadata": {},
   "outputs": [
    {
     "data": {
      "text/plain": [
       "'This sentence ! With different stopwords added .'"
      ]
     },
     "execution_count": 8,
     "metadata": {},
     "output_type": "execute_result"
    }
   ],
   "source": [
    "# 3. Make a function that removes all stopwords.\n",
    "\n",
    "def remove_stopwords(input_string):\n",
    "    words = word_tokenize(input_string)\n",
    "    valid_words = []\n",
    "    \n",
    "    for word in words:\n",
    "        if word not in stopwords:\n",
    "            valid_words.append(word)\n",
    "\n",
    "    input_string = ' '.join(valid_words)\n",
    "    \n",
    "    return input_string\n",
    "\n",
    "\n",
    "test_string = 'This is a sentence! With some different stopwords i have added in here.'\n",
    "remove_stopwords(test_string)\n"
   ]
  },
  {
   "cell_type": "code",
   "execution_count": 9,
   "metadata": {},
   "outputs": [
    {
     "data": {
      "text/plain": [
       "'i play and start play with player and we all love to play with play'"
      ]
     },
     "execution_count": 9,
     "metadata": {},
     "output_type": "execute_result"
    }
   ],
   "source": [
    "# 4. EXTRA CREDIT: Make a function that breaks words into their stem words.\n",
    "\n",
    "def stem_words(input_string):\n",
    "    porter = PorterStemmer()\n",
    "    words = word_tokenize(input_string)\n",
    "    valid_words = []\n",
    "    \n",
    "    for word in words:\n",
    "        stemmed_word = porter.stem(word)\n",
    "        valid_words.append(stemmed_word)\n",
    "    \n",
    "    input_string = ' '.join(valid_words)\n",
    "\n",
    "    return input_string \n",
    "\n",
    "\n",
    "test_string = 'I played and started playing with players and we all love to play with plays'\n",
    "\n",
    "stem_words(test_string)\n"
   ]
  },
  {
   "cell_type": "code",
   "execution_count": 10,
   "metadata": {},
   "outputs": [
    {
     "data": {
      "text/plain": [
       "'play start play player love play play'"
      ]
     },
     "execution_count": 10,
     "metadata": {},
     "output_type": "execute_result"
    }
   ],
   "source": [
    "# 5. MANDATORY: Make a pipeline function that applies all the text processing functions you just built.\n",
    "\n",
    "def pipeline(input_string):\n",
    "    input_string = make_lowercase(input_string)\n",
    "    input_string = remove_punctuation(input_string)\n",
    "    input_string = remove_stopwords(input_string)\n",
    "    input_string = stem_words(input_string)\n",
    "    return input_string\n",
    "\n",
    "\n",
    "test_string = 'I played and started playing with players and we all love to play with plays'\n",
    "pipeline(test_string)\n"
   ]
  },
  {
   "cell_type": "code",
   "execution_count": 11,
   "metadata": {},
   "outputs": [
    {
     "name": "stdout",
     "output_type": "stream",
     "text": [
      "ORIGINAL TEXT:\n",
      "\n",
      " From: lerxst@wam.umd.edu (where's my thing)\r\n",
      "Subject: WHAT car is this!?\r\n",
      "Nntp-Posting-Host: rac3.wam.umd.edu\r\n",
      "Organization: University of Maryland, College Park\r\n",
      "Lines: 15\r\n",
      "\r\n",
      " I was wondering if anyone out there could enlighten me on this car I saw\r\n",
      "the other day. It was a 2-door sports car, looked to be from the late 60s/\r\n",
      "early 70s. It was called a Bricklin. The doors were really small. In addition,\r\n",
      "the front bumper was separate from the rest of the body. This is \r\n",
      "all I know. If anyone can tellme a model name, engine specs, years\r\n",
      "of production, where this car is made, history, or whatever info you\r\n",
      "have on this funky looking car, please e-mail.\r\n",
      "\r\n",
      "Thanks,\r\n",
      "- IL\r\n",
      "   ---- brought to you by your neighborhood Lerxst ----\r\n",
      "\r\n",
      "\r\n",
      "\r\n",
      "\r\n",
      "\n",
      "CLEANED TEXT:\n",
      "\n",
      " lerxstwamumdedu where thing subject car nntppostinghost rac3wamumdedu organ univers maryland colleg park line 15 wonder anyon could enlighten car saw day 2door sport car look late 60 earli 70 call bricklin door realli small addit front bumper separ rest bodi know anyon tellm model name engin spec year product car made histori whatev info funki look car pleas email thank il brought neighborhood lerxst\n"
     ]
    }
   ],
   "source": [
    "# 6. Mandatory: Use `df[column].apply(???)` and apply the text pipeline to your text data column. \n",
    "\n",
    "df['message_clean'] = df['message']\n",
    "df['message_clean'] = df['message'].apply(pipeline)\n",
    "\n",
    "print('ORIGINAL TEXT:\\n\\n', df['message'][0])\n",
    "print('CLEANED TEXT:\\n\\n', df['message_clean'][0])\n"
   ]
  },
  {
   "cell_type": "markdown",
   "metadata": {},
   "source": [
    "### #2.2 Text Vectorization\n",
    "\n",
    "1. Define your `X` and `y` data.\n",
    "\n",
    "2. Initialize a vectorizer (you can use TFIDF or BOW, it is your choice).\n",
    "    * Do you want to use n-grams..?\n",
    "\n",
    "3. Fit your vectorizer using your X data.\n",
    "    * Remember, this process happens IN PLACE.\n",
    "\n",
    "4. Transform your X data using your fitted vectorizer.\n",
    "    * `X = vectorizer.???`\n",
    "\n",
    "5. Print the shape of your X.  How many features (aka columns) do you have?\n"
   ]
  },
  {
   "cell_type": "code",
   "execution_count": 12,
   "metadata": {},
   "outputs": [],
   "source": [
    "# 1. Define your `X` and `y` data.\n",
    "\n",
    "X = df['message_clean'].values\n",
    "\n",
    "y = df['topic_category'].values\n"
   ]
  },
  {
   "cell_type": "code",
   "execution_count": 13,
   "metadata": {},
   "outputs": [],
   "source": [
    "# 2. Initialize a vectorizer (you can use TFIDF or BOW, it is your choice).\n",
    "\n",
    "vectorizer = TfidfVectorizer()\n"
   ]
  },
  {
   "cell_type": "code",
   "execution_count": 14,
   "metadata": {},
   "outputs": [
    {
     "data": {
      "text/plain": [
       "TfidfVectorizer()"
      ]
     },
     "execution_count": 14,
     "metadata": {},
     "output_type": "execute_result"
    }
   ],
   "source": [
    "# 3. Fit your vectorizer using your X data.\n",
    "\n",
    "vectorizer.fit(X)\n"
   ]
  },
  {
   "cell_type": "code",
   "execution_count": 15,
   "metadata": {},
   "outputs": [],
   "source": [
    "# 4. Transform your X data using your fitted vectorizer.\n",
    "\n",
    "X = vectorizer.transform(X)\n"
   ]
  },
  {
   "cell_type": "code",
   "execution_count": 16,
   "metadata": {},
   "outputs": [
    {
     "name": "stdout",
     "output_type": "stream",
     "text": [
      "(11314, 119708) <class 'scipy.sparse.csr.csr_matrix'>\n"
     ]
    }
   ],
   "source": [
    "# 5. Print the shape of your X.  How many features (aka columns) do you have?\n",
    "\n",
    "print(X.shape, type(X))\n"
   ]
  },
  {
   "cell_type": "markdown",
   "metadata": {},
   "source": [
    "### #2.3 Split our data into Training and Testing sets.\n"
   ]
  },
  {
   "cell_type": "code",
   "execution_count": 17,
   "metadata": {},
   "outputs": [],
   "source": [
    "# Split our data into training and testing sets.\n",
    "\n",
    "X_train, X_test, y_train, y_test = train_test_split(\n",
    "    X, y, test_size=0.2, random_state=42)\n",
    "\n",
    "X_train_text = X_train\n",
    "X_test_text = X_test\n"
   ]
  },
  {
   "cell_type": "markdown",
   "metadata": {},
   "source": [
    "____\n",
    "## #3 Build and Train Model\n",
    "\n",
    "Use the Multinomial Naive Bayes classifier to classify these documents. \n",
    "\n",
    "1. Make a dictionary of the targeted parameters of the Multinomial Naive Bayes classifier.\n",
    "2. Initalize your GridSearchCV with a Multinomial Naive Bayes classifier, your param_grid, and what you are optimizing for.\n",
    "3. Fit your GridSearchCV with your training data.\n",
    "4. Print the parameters of your best model.\n",
    "\n",
    "Experiment with different alphas.  Use the alpha gives you the best result.\n",
    "\n",
    "EXTRA CREDIT:  Use __GridSearchCV__ to programmatically do this for you.\n"
   ]
  },
  {
   "cell_type": "code",
   "execution_count": 18,
   "metadata": {},
   "outputs": [],
   "source": [
    "MultinomialNB??\n",
    "# help(MultinomialNB)\n"
   ]
  },
  {
   "cell_type": "markdown",
   "metadata": {},
   "source": [
    "```python\n",
    "Init signature: MultinomialNB(*, alpha=1.0, fit_prior=True, class_prior=None)\n",
    "Source:        \n",
    "class MultinomialNB(_BaseDiscreteNB):\n",
    "    \"\"\"\n",
    "    Naive Bayes classifier for multinomial models.\n",
    "\n",
    "    The multinomial Naive Bayes classifier is suitable for classification with\n",
    "    discrete features (e.g., word counts for text classification). The\n",
    "    multinomial distribution normally requires integer feature counts. However,\n",
    "    in practice, fractional counts such as tf-idf may also work.\n",
    "\n",
    "    Read more in the :ref:`User Guide <multinomial_naive_bayes>`.\n",
    "\n",
    "    Parameters\n",
    "    ----------\n",
    "    alpha : float, default=1.0\n",
    "        Additive (Laplace/Lidstone) smoothing parameter\n",
    "        (0 for no smoothing).\n",
    "\n",
    "    fit_prior : bool, default=True\n",
    "        Whether to learn class prior probabilities or not.\n",
    "        If false, a uniform prior will be used.\n",
    "\n",
    "    class_prior : array-like of shape (n_classes,), default=None\n",
    "        Prior probabilities of the classes. If specified the priors are not\n",
    "        adjusted according to the data.\n",
    "\n",
    "    Attributes\n",
    "    ----------\n",
    "    class_count_ : ndarray of shape (n_classes,)\n",
    "        Number of samples encountered for each class during fitting. This\n",
    "        value is weighted by the sample weight when provided.\n",
    "\n",
    "    class_log_prior_ : ndarray of shape (n_classes,)\n",
    "        Smoothed empirical log probability for each class.\n",
    "\n",
    "    classes_ : ndarray of shape (n_classes,)\n",
    "        Class labels known to the classifier\n",
    "\n",
    "    coef_ : ndarray of shape (n_classes, n_features)\n",
    "        Mirrors ``feature_log_prob_`` for interpreting `MultinomialNB`\n",
    "        as a linear model.\n",
    "\n",
    "        .. deprecated:: 0.24\n",
    "            ``coef_`` is deprecated in 0.24 and will be removed in 1.1\n",
    "            (renaming of 0.26).\n",
    "\n",
    "    feature_count_ : ndarray of shape (n_classes, n_features)\n",
    "        Number of samples encountered for each (class, feature)\n",
    "        during fitting. This value is weighted by the sample weight when\n",
    "        provided.\n",
    "\n",
    "    feature_log_prob_ : ndarray of shape (n_classes, n_features)\n",
    "        Empirical log probability of features\n",
    "        given a class, ``P(x_i|y)``.\n",
    "\n",
    "    intercept_ : ndarray of shape (n_classes,)\n",
    "        Mirrors ``class_log_prior_`` for interpreting `MultinomialNB`\n",
    "        as a linear model.\n",
    "\n",
    "        .. deprecated:: 0.24\n",
    "            ``intercept_`` is deprecated in 0.24 and will be removed in 1.1\n",
    "            (renaming of 0.26).\n",
    "\n",
    "    n_features_ : int\n",
    "        Number of features of each sample.\n",
    "\n",
    "        .. deprecated:: 1.0\n",
    "            Attribute `n_features_` was deprecated in version 1.0 and will be\n",
    "            removed in 1.2. Use `n_features_in_` instead.\n",
    "\n",
    "    n_features_in_ : int\n",
    "        Number of features seen during :term:`fit`.\n",
    "\n",
    "        .. versionadded:: 0.24\n",
    "\n",
    "    feature_names_in_ : ndarray of shape (`n_features_in_`,)\n",
    "        Names of features seen during :term:`fit`. Defined only when `X`\n",
    "        has feature names that are all strings.\n",
    "\n",
    "        .. versionadded:: 1.0\n",
    "```"
   ]
  },
  {
   "cell_type": "code",
   "execution_count": 19,
   "metadata": {},
   "outputs": [],
   "source": [
    "# 1. Make a dictionary of the targeted parameters of the Multinomial Naive Bayes classifier.\n",
    "\n",
    "params = {\n",
    "    'alpha': [0.01, 0.02, 0.03, 0.04, 0.05, 0.06, 0.07, 0.08, 0.09, 0.10, 0.15, 0.20, 0.30, 0.40, 0.50, 0.60, 0.70, 0.80, 0.90, 1.00], \n",
    "    'fit_prior': [True, False]\n",
    "         }\n"
   ]
  },
  {
   "cell_type": "code",
   "execution_count": 20,
   "metadata": {},
   "outputs": [],
   "source": [
    "# 2. Initalize your GridSearchCV with a Multinomial Naive Bayes classifier, your param_grid, and what you are optimizing for.\n",
    "#    Choose any of the five optimization strategies; accuracy, precision, recall, f1, or roc_auc.\n",
    "\n",
    "grid_search_cv =  GridSearchCV( \n",
    "    estimator = MultinomialNB(), \n",
    "    param_grid = params, \n",
    "    scoring = 'f1_weighted',\n",
    "    return_train_score = True)\n"
   ]
  },
  {
   "cell_type": "code",
   "execution_count": 21,
   "metadata": {},
   "outputs": [
    {
     "data": {
      "text/plain": [
       "GridSearchCV(estimator=MultinomialNB(),\n",
       "             param_grid={'alpha': [0.01, 0.02, 0.03, 0.04, 0.05, 0.06, 0.07,\n",
       "                                   0.08, 0.09, 0.1, 0.15, 0.2, 0.3, 0.4, 0.5,\n",
       "                                   0.6, 0.7, 0.8, 0.9, 1.0],\n",
       "                         'fit_prior': [True, False]},\n",
       "             return_train_score=True, scoring='f1_weighted')"
      ]
     },
     "execution_count": 21,
     "metadata": {},
     "output_type": "execute_result"
    }
   ],
   "source": [
    "# 3. Fit your GridSearchCV with your training data. \n",
    "\n",
    "grid_search_cv.fit(X_train, y_train)\n"
   ]
  },
  {
   "cell_type": "code",
   "execution_count": 22,
   "metadata": {},
   "outputs": [
    {
     "name": "stdout",
     "output_type": "stream",
     "text": [
      "{'alpha': 0.01, 'fit_prior': False}\n"
     ]
    }
   ],
   "source": [
    "# 4. Print the parameters of your best model. \n",
    "#    Print the best parameters it found.\n",
    "\n",
    "print(grid_search_cv.best_params_)\n"
   ]
  },
  {
   "cell_type": "markdown",
   "metadata": {},
   "source": [
    "___\n",
    "## #4 Evaluate Model\n",
    "\n",
    "1. Make new predicitions using our test data.\n",
    "2. Print the accuracy of the model.\n",
    "3. Print the confusion matrix of our predictions.\n",
    "4. Using `classification_report` print the evaluation results for all the classes.\n"
   ]
  },
  {
   "cell_type": "code",
   "execution_count": 23,
   "metadata": {},
   "outputs": [],
   "source": [
    "# 1. Make new predictions of our testing data.\n",
    "\n",
    "y_pred = grid_search_cv.predict(X_test)\n",
    "\n",
    "y_pred_proba = grid_search_cv.predict_proba(X_test)\n"
   ]
  },
  {
   "cell_type": "code",
   "execution_count": 24,
   "metadata": {},
   "outputs": [
    {
     "name": "stdout",
     "output_type": "stream",
     "text": [
      "Model Accuracy: 0.918767\n"
     ]
    }
   ],
   "source": [
    "# 2. Print the accuracy of the model.\n",
    "accuracy = grid_search_cv.score(X_test, y_test)\n",
    "\n",
    "print('Model Accuracy: %f' % accuracy)\n"
   ]
  },
  {
   "cell_type": "code",
   "execution_count": 25,
   "metadata": {},
   "outputs": [
    {
     "data": {
      "text/plain": [
       "<sklearn.metrics._plot.confusion_matrix.ConfusionMatrixDisplay at 0x232427314f0>"
      ]
     },
     "execution_count": 25,
     "metadata": {},
     "output_type": "execute_result"
    },
    {
     "data": {
      "image/png": "[encoded data removed]",
      "text/plain": [
       "<Figure size 1512x1512 with 2 Axes>"
      ]
     },
     "metadata": {
      "needs_background": "light"
     },
     "output_type": "display_data"
    }
   ],
   "source": [
    "# 3. Plot the confusion matrix of our predictions.\n",
    "fig, ax = plt.subplots(figsize=(21, 21))\n",
    "\n",
    "disp = ConfusionMatrixDisplay.from_estimator(grid_search_cv, X_test, y_test,\n",
    "                             display_labels=grid_search_cv.classes_,\n",
    "                             cmap=plt.cm.Blues, ax=ax)\n",
    "plt.xticks(rotation=90)\n",
    "disp\n"
   ]
  },
  {
   "cell_type": "code",
   "execution_count": 26,
   "metadata": {},
   "outputs": [
    {
     "name": "stdout",
     "output_type": "stream",
     "text": [
      "                          precision    recall  f1-score   support\n",
      "\n",
      "             alt.atheism       0.93      0.96      0.94        97\n",
      "           comp.graphics       0.78      0.84      0.81       104\n",
      " comp.os.ms-windows.misc       0.92      0.80      0.86       115\n",
      "comp.sys.ibm.pc.hardware       0.74      0.85      0.80       123\n",
      "   comp.sys.mac.hardware       0.94      0.94      0.94       126\n",
      "          comp.windows.x       0.89      0.92      0.90       106\n",
      "            misc.forsale       0.87      0.80      0.83       109\n",
      "               rec.autos       0.95      0.91      0.93       139\n",
      "         rec.motorcycles       0.97      0.98      0.98       122\n",
      "      rec.sport.baseball       1.00      0.97      0.99       102\n",
      "        rec.sport.hockey       0.96      0.99      0.98       108\n",
      "               sci.crypt       1.00      0.95      0.98       125\n",
      "         sci.electronics       0.89      0.89      0.89       114\n",
      "                 sci.med       0.97      0.98      0.97       119\n",
      "               sci.space       1.00      0.99      1.00       127\n",
      "  soc.religion.christian       0.88      0.93      0.90       122\n",
      "      talk.politics.guns       0.94      0.96      0.95       121\n",
      "   talk.politics.mideast       0.97      0.99      0.98       102\n",
      "      talk.politics.misc       0.90      0.97      0.93       107\n",
      "      talk.religion.misc       0.89      0.67      0.76        75\n",
      "\n",
      "                accuracy                           0.92      2263\n",
      "               macro avg       0.92      0.91      0.92      2263\n",
      "            weighted avg       0.92      0.92      0.92      2263\n",
      "\n"
     ]
    }
   ],
   "source": [
    "# 4. Using `classification_report` print the evaluation results for all the classes.\n",
    "\n",
    "print(classification_report(y_test, y_pred, target_names=grid_search_cv.classes_))\n"
   ]
  },
  {
   "cell_type": "markdown",
   "metadata": {},
   "source": [
    "___\n",
    "## Manual predicition\n",
    "\n",
    "Write a new sentence that you think will be classified as talk.politics.guns. \n",
    "\n",
    "1. Apply the text pipeline funciton to your sentence.\n",
    "2. Transform your cleaned text using the `X = vectorizer.transform([your_text])`\n",
    "    * Note, the `transform` function accepts a list and not a individual string.\n",
    "3. Use the model to predict your new `X`.\n",
    "4. Print the prediction.\n"
   ]
  },
  {
   "cell_type": "code",
   "execution_count": 27,
   "metadata": {},
   "outputs": [
    {
     "name": "stdout",
     "output_type": "stream",
     "text": [
      "my_sentence: While guns should not be in the hands of violent offenders, current federal mandatory minimum sentences for gun possession crimes are broadly written and sometimes produce absurd and unintended results, treating nonviolent gun owners as if they had committed heinous crimes. \n",
      "\n",
      "my_sentence_pipeline: gun hand violent offend current feder mandatori minimum sentenc gun possess crime broadli written sometim produc absurd unintend result treat nonviol gun owner commit heinou crime \n",
      "\n",
      "my_sentence_pipeline_vectorized:   (0, 116661)\t0.13866614695453483\n",
      "  (0, 113731)\t0.1814280209816597\n",
      "  (0, 111409)\t0.30261203862281993\n",
      "  (0, 109578)\t0.15652939223555531\n",
      "  (0, 102894)\t0.13560531925625743\n",
      "  (0, 100326)\t0.17682630075454356\n",
      "  (0, 96236)\t0.11969410381454382\n",
      "  (0, 92476)\t0.14049514326314294\n",
      "  (0, 91512)\t0.18209589488679737\n",
      "  (0, 88056)\t0.1486409114586758\n",
      "  (0, 86578)\t0.19101361178348825\n",
      "  (0, 85541)\t0.28085491848133853\n",
      "  (0, 74960)\t0.18491927013303155\n",
      "  (0, 68485)\t0.228804980897382\n",
      "  (0, 51546)\t0.2554007196684354\n",
      "  (0, 50789)\t0.11781020514931113\n",
      "  (0, 50135)\t0.40144633216674225\n",
      "  (0, 44874)\t0.1478374956605658\n",
      "  (0, 36510)\t0.11502102132082949\n",
      "  (0, 35831)\t0.2927957878929016\n",
      "  (0, 33982)\t0.1486409114586758\n",
      "  (0, 28666)\t0.268127819074887\n",
      "  (0, 20055)\t0.18926933587538639 \n",
      "\n",
      "alt.atheism 0.012\n",
      "comp.graphics 0.0\n",
      "comp.os.ms-windows.misc 0.0\n",
      "comp.sys.ibm.pc.hardware 0.0\n",
      "comp.sys.mac.hardware 0.0\n",
      "comp.windows.x 0.0\n",
      "misc.forsale 0.0\n",
      "rec.autos 0.001\n",
      "rec.motorcycles 0.001\n",
      "rec.sport.baseball 0.0\n",
      "rec.sport.hockey 0.0\n",
      "sci.crypt 0.004\n",
      "sci.electronics 0.0\n",
      "sci.med 0.0\n",
      "sci.space 0.0\n",
      "soc.religion.christian 0.002\n",
      "talk.politics.guns 0.902\n",
      "talk.politics.mideast 0.014\n",
      "talk.politics.misc 0.046\n",
      "talk.religion.misc 0.018\n",
      "\n",
      "Prediction: talk.politics.guns\n"
     ]
    },
    {
     "data": {
      "text/html": [
       "<style type=\"text/css\">\n",
       "</style>\n",
       "<table id=\"T_6966d\">\n",
       "  <thead>\n",
       "    <tr>\n",
       "      <th class=\"blank level0\" >&nbsp;</th>\n",
       "      <th id=\"T_6966d_level0_col0\" class=\"col_heading level0 col0\" >Probability</th>\n",
       "    </tr>\n",
       "  </thead>\n",
       "  <tbody>\n",
       "    <tr>\n",
       "      <th id=\"T_6966d_level0_row0\" class=\"row_heading level0 row0\" >talk.politics.guns</th>\n",
       "      <td id=\"T_6966d_row0_col0\" class=\"data row0 col0\" >90.23%</td>\n",
       "    </tr>\n",
       "    <tr>\n",
       "      <th id=\"T_6966d_level0_row1\" class=\"row_heading level0 row1\" >talk.politics.misc</th>\n",
       "      <td id=\"T_6966d_row1_col0\" class=\"data row1 col0\" >4.57%</td>\n",
       "    </tr>\n",
       "    <tr>\n",
       "      <th id=\"T_6966d_level0_row2\" class=\"row_heading level0 row2\" >talk.religion.misc</th>\n",
       "      <td id=\"T_6966d_row2_col0\" class=\"data row2 col0\" >1.77%</td>\n",
       "    </tr>\n",
       "    <tr>\n",
       "      <th id=\"T_6966d_level0_row3\" class=\"row_heading level0 row3\" >talk.politics.mideast</th>\n",
       "      <td id=\"T_6966d_row3_col0\" class=\"data row3 col0\" >1.37%</td>\n",
       "    </tr>\n",
       "    <tr>\n",
       "      <th id=\"T_6966d_level0_row4\" class=\"row_heading level0 row4\" >alt.atheism</th>\n",
       "      <td id=\"T_6966d_row4_col0\" class=\"data row4 col0\" >1.21%</td>\n",
       "    </tr>\n",
       "    <tr>\n",
       "      <th id=\"T_6966d_level0_row5\" class=\"row_heading level0 row5\" >sci.crypt</th>\n",
       "      <td id=\"T_6966d_row5_col0\" class=\"data row5 col0\" >0.38%</td>\n",
       "    </tr>\n",
       "    <tr>\n",
       "      <th id=\"T_6966d_level0_row6\" class=\"row_heading level0 row6\" >soc.religion.christian</th>\n",
       "      <td id=\"T_6966d_row6_col0\" class=\"data row6 col0\" >0.18%</td>\n",
       "    </tr>\n",
       "    <tr>\n",
       "      <th id=\"T_6966d_level0_row7\" class=\"row_heading level0 row7\" >rec.motorcycles</th>\n",
       "      <td id=\"T_6966d_row7_col0\" class=\"data row7 col0\" >0.13%</td>\n",
       "    </tr>\n",
       "    <tr>\n",
       "      <th id=\"T_6966d_level0_row8\" class=\"row_heading level0 row8\" >rec.autos</th>\n",
       "      <td id=\"T_6966d_row8_col0\" class=\"data row8 col0\" >0.11%</td>\n",
       "    </tr>\n",
       "    <tr>\n",
       "      <th id=\"T_6966d_level0_row9\" class=\"row_heading level0 row9\" >sci.space</th>\n",
       "      <td id=\"T_6966d_row9_col0\" class=\"data row9 col0\" >0.02%</td>\n",
       "    </tr>\n",
       "    <tr>\n",
       "      <th id=\"T_6966d_level0_row10\" class=\"row_heading level0 row10\" >sci.med</th>\n",
       "      <td id=\"T_6966d_row10_col0\" class=\"data row10 col0\" >0.01%</td>\n",
       "    </tr>\n",
       "    <tr>\n",
       "      <th id=\"T_6966d_level0_row11\" class=\"row_heading level0 row11\" >comp.windows.x</th>\n",
       "      <td id=\"T_6966d_row11_col0\" class=\"data row11 col0\" >0.01%</td>\n",
       "    </tr>\n",
       "    <tr>\n",
       "      <th id=\"T_6966d_level0_row12\" class=\"row_heading level0 row12\" >sci.electronics</th>\n",
       "      <td id=\"T_6966d_row12_col0\" class=\"data row12 col0\" >0.01%</td>\n",
       "    </tr>\n",
       "    <tr>\n",
       "      <th id=\"T_6966d_level0_row13\" class=\"row_heading level0 row13\" >rec.sport.baseball</th>\n",
       "      <td id=\"T_6966d_row13_col0\" class=\"data row13 col0\" >0.00%</td>\n",
       "    </tr>\n",
       "    <tr>\n",
       "      <th id=\"T_6966d_level0_row14\" class=\"row_heading level0 row14\" >rec.sport.hockey</th>\n",
       "      <td id=\"T_6966d_row14_col0\" class=\"data row14 col0\" >0.00%</td>\n",
       "    </tr>\n",
       "    <tr>\n",
       "      <th id=\"T_6966d_level0_row15\" class=\"row_heading level0 row15\" >comp.sys.ibm.pc.hardware</th>\n",
       "      <td id=\"T_6966d_row15_col0\" class=\"data row15 col0\" >0.00%</td>\n",
       "    </tr>\n",
       "    <tr>\n",
       "      <th id=\"T_6966d_level0_row16\" class=\"row_heading level0 row16\" >comp.graphics</th>\n",
       "      <td id=\"T_6966d_row16_col0\" class=\"data row16 col0\" >0.00%</td>\n",
       "    </tr>\n",
       "    <tr>\n",
       "      <th id=\"T_6966d_level0_row17\" class=\"row_heading level0 row17\" >comp.sys.mac.hardware</th>\n",
       "      <td id=\"T_6966d_row17_col0\" class=\"data row17 col0\" >0.00%</td>\n",
       "    </tr>\n",
       "    <tr>\n",
       "      <th id=\"T_6966d_level0_row18\" class=\"row_heading level0 row18\" >comp.os.ms-windows.misc</th>\n",
       "      <td id=\"T_6966d_row18_col0\" class=\"data row18 col0\" >0.00%</td>\n",
       "    </tr>\n",
       "    <tr>\n",
       "      <th id=\"T_6966d_level0_row19\" class=\"row_heading level0 row19\" >misc.forsale</th>\n",
       "      <td id=\"T_6966d_row19_col0\" class=\"data row19 col0\" >0.00%</td>\n",
       "    </tr>\n",
       "  </tbody>\n",
       "</table>\n"
      ],
      "text/plain": [
       "<pandas.io.formats.style.Styler at 0x2324577a5b0>"
      ]
     },
     "execution_count": 27,
     "metadata": {},
     "output_type": "execute_result"
    }
   ],
   "source": [
    "my_sentence = 'While guns should not be in the hands of violent offenders, current federal mandatory minimum sentences '\\\n",
    "            + 'for gun possession crimes are broadly written and sometimes produce absurd and unintended results, '\\\n",
    "            + 'treating nonviolent gun owners as if they had committed heinous crimes.'\n",
    "print('my_sentence:', my_sentence, '\\n')\n",
    "\n",
    "# 1. Apply the text pipeline to your sentence.\n",
    "my_sentence_pipeline = pipeline(my_sentence)\n",
    "print('my_sentence_pipeline:', my_sentence_pipeline, '\\n')\n",
    "\n",
    "# 2. Transform your cleaned text using the `X = vectorizer.transform([your_text])`.\n",
    "my_sentence_pipeline_vectorized = vectorizer.transform([my_sentence_pipeline])\n",
    "print('my_sentence_pipeline_vectorized:', my_sentence_pipeline_vectorized, '\\n')\n",
    "\n",
    "# 3. Use the model to predict your new `X`. \n",
    "grid_search_cv.predict(my_sentence_pipeline_vectorized)\n",
    "\n",
    "\n",
    "# 4. Print the prediction.\n",
    "pp = grid_search_cv.predict_proba(my_sentence_pipeline_vectorized)\n",
    "for class_name, percentage in zip(grid_search_cv.classes_, pp.round(3)[0]):\n",
    "    print(class_name, percentage )\n",
    "\n",
    "print('\\nPrediction:', grid_search_cv.predict(my_sentence_pipeline_vectorized)[0])\n",
    "\n",
    "pd.DataFrame(grid_search_cv.predict_proba(my_sentence_pipeline_vectorized)[0],\n",
    "             index=grid_search_cv.classes_,\n",
    "             columns=['Probability']).sort_values(by='Probability', ascending=False).style.format('{:.2%}'.format)\n"
   ]
  },
  {
   "cell_type": "markdown",
   "metadata": {},
   "source": [
    "___\n",
    "\n",
    "# PART 2: Republican vs Democrat Tweet Classifier (Twitter Data)\n",
    "\n",
    "This part of the exercise is un-guided on purpose.\n",
    "\n",
    "Using the `dem-vs-rep-tweets.csv` build a classifier to determine if a tweet was written by a democrat or republican.\n",
    "\n",
    "Can you get an f1-score higher than 82%?\n"
   ]
  },
  {
   "cell_type": "markdown",
   "metadata": {},
   "source": [
    "___\n",
    "## #1 Inspect and Explore Data\n",
    "\n",
    "1. Load the dem-vs-rep-tweets.csv data into a dataframe.\n",
    "2. Print the shape.\n",
    "3. Inspect / remove nulls and duplicates.\n",
    "4. Find class balances, print out how many of each topic_category there are.\n"
   ]
  },
  {
   "cell_type": "code",
   "execution_count": 28,
   "metadata": {},
   "outputs": [
    {
     "data": {
      "text/html": [
       "<div>\n",
       "<style scoped>\n",
       "    .dataframe tbody tr th:only-of-type {\n",
       "        vertical-align: middle;\n",
       "    }\n",
       "\n",
       "    .dataframe tbody tr th {\n",
       "        vertical-align: top;\n",
       "    }\n",
       "\n",
       "    .dataframe thead th {\n",
       "        text-align: right;\n",
       "    }\n",
       "</style>\n",
       "<table border=\"1\" class=\"dataframe\">\n",
       "  <thead>\n",
       "    <tr style=\"text-align: right;\">\n",
       "      <th></th>\n",
       "      <th>Party</th>\n",
       "      <th>Handle</th>\n",
       "      <th>Tweet</th>\n",
       "    </tr>\n",
       "  </thead>\n",
       "  <tbody>\n",
       "    <tr>\n",
       "      <th>0</th>\n",
       "      <td>Democrat</td>\n",
       "      <td>RepDarrenSoto</td>\n",
       "      <td>Today, Senate Dems vote to #SaveTheInternet. P...</td>\n",
       "    </tr>\n",
       "    <tr>\n",
       "      <th>1</th>\n",
       "      <td>Democrat</td>\n",
       "      <td>RepDarrenSoto</td>\n",
       "      <td>RT @WinterHavenSun: Winter Haven resident / Al...</td>\n",
       "    </tr>\n",
       "    <tr>\n",
       "      <th>2</th>\n",
       "      <td>Democrat</td>\n",
       "      <td>RepDarrenSoto</td>\n",
       "      <td>RT @NBCLatino: .@RepDarrenSoto noted that Hurr...</td>\n",
       "    </tr>\n",
       "    <tr>\n",
       "      <th>3</th>\n",
       "      <td>Democrat</td>\n",
       "      <td>RepDarrenSoto</td>\n",
       "      <td>RT @NALCABPolicy: Meeting with @RepDarrenSoto ...</td>\n",
       "    </tr>\n",
       "    <tr>\n",
       "      <th>4</th>\n",
       "      <td>Democrat</td>\n",
       "      <td>RepDarrenSoto</td>\n",
       "      <td>RT @Vegalteno: Hurricane season starts on June...</td>\n",
       "    </tr>\n",
       "  </tbody>\n",
       "</table>\n",
       "</div>"
      ],
      "text/plain": [
       "      Party         Handle                                              Tweet\n",
       "0  Democrat  RepDarrenSoto  Today, Senate Dems vote to #SaveTheInternet. P...\n",
       "1  Democrat  RepDarrenSoto  RT @WinterHavenSun: Winter Haven resident / Al...\n",
       "2  Democrat  RepDarrenSoto  RT @NBCLatino: .@RepDarrenSoto noted that Hurr...\n",
       "3  Democrat  RepDarrenSoto  RT @NALCABPolicy: Meeting with @RepDarrenSoto ...\n",
       "4  Democrat  RepDarrenSoto  RT @Vegalteno: Hurricane season starts on June..."
      ]
     },
     "execution_count": 28,
     "metadata": {},
     "output_type": "execute_result"
    }
   ],
   "source": [
    "# 1. Load the dem-vs-rep-tweets.csv data into a dataframe.\n",
    "\n",
    "# Read the file dem-vs-rep-tweets.csv located inside the data folder and then load the data.\n",
    "df = pd.read_csv('data/dem-vs-rep-tweets.csv')\n",
    "\n",
    "# Print/Display/Return the first 5 rows of the file dem-vs-rep-tweets.csv to make sure the file was loaded successfully.\n",
    "df.head()\n"
   ]
  },
  {
   "cell_type": "code",
   "execution_count": 29,
   "metadata": {},
   "outputs": [
    {
     "name": "stdout",
     "output_type": "stream",
     "text": [
      "df.shape = (86460, 3)\n"
     ]
    }
   ],
   "source": [
    "# 2. Print the shape\n",
    "\n",
    "print('df.shape =', df.shape)\n"
   ]
  },
  {
   "cell_type": "code",
   "execution_count": 30,
   "metadata": {},
   "outputs": [
    {
     "name": "stdout",
     "output_type": "stream",
     "text": [
      "NULLS\n",
      "Party     0\n",
      "Handle    0\n",
      "Tweet     0\n",
      "dtype: int64 \n",
      "\n",
      "Duplicates\n",
      "df.duplicated().sum() = 57 \n",
      "\n",
      "Removing Duplicates\n",
      "df.duplicated().sum() = 0 \n",
      "\n",
      "df.shape = (86403, 3)\n"
     ]
    }
   ],
   "source": [
    "# 3. Inspect / remove nulls and duplicates.\n",
    "\n",
    "print('NULLS')\n",
    "print(df.isnull().sum(),'\\n')\n",
    "print('Duplicates')\n",
    "print('df.duplicated().sum() =', df.duplicated().sum(), '\\n')\n",
    "df.drop_duplicates(inplace=True)\n",
    "print('Removing Duplicates')\n",
    "print('df.duplicated().sum() =', df.duplicated().sum(), '\\n')\n",
    "print('df.shape =', df.shape)\n"
   ]
  },
  {
   "cell_type": "code",
   "execution_count": 31,
   "metadata": {},
   "outputs": [
    {
     "name": "stdout",
     "output_type": "stream",
     "text": [
      "Class Balances\n"
     ]
    },
    {
     "data": {
      "text/plain": [
       "Republican    44362\n",
       "Democrat      42041\n",
       "Name: Party, dtype: int64"
      ]
     },
     "execution_count": 31,
     "metadata": {},
     "output_type": "execute_result"
    }
   ],
   "source": [
    "# 4. Find class balances, print out how many of each Party(Republican and Democrat) there are.\n",
    "\n",
    "print('Class Balances')\n",
    "df.Party.value_counts()\n"
   ]
  },
  {
   "cell_type": "markdown",
   "metadata": {},
   "source": [
    "___\n",
    "## #2 Select and Engineer Features\n",
    "\n",
    "1. Text pre-processing.\n",
    "2. Text vectorization.\n",
    "3. Split our data into trainig and testing sets."
   ]
  },
  {
   "cell_type": "code",
   "execution_count": 32,
   "metadata": {},
   "outputs": [
    {
     "name": "stdout",
     "output_type": "stream",
     "text": [
      "ORIGINAL TWEET:\n",
      "\n",
      " Today, Senate Dems vote to #SaveTheInternet. Proud to support similar #NetNeutrality legislation here in the House… https://t.co/n3tggDLU1L\n",
      "\n",
      "CLEANED TWEET:\n",
      "\n",
      " today senat dem vote savetheinternet proud support similar netneutr legisl hous httpstcon3tggdlu1l\n"
     ]
    }
   ],
   "source": [
    "# 1. Text pre-processing.\n",
    "\n",
    "df['Tweet_clean'] = df['Tweet']\n",
    "df['Tweet_clean'] = df['Tweet'].apply(pipeline)\n",
    "\n",
    "print('ORIGINAL TWEET:\\n\\n', df['Tweet'][0])\n",
    "print('\\nCLEANED TWEET:\\n\\n', df['Tweet_clean'][0])\n"
   ]
  },
  {
   "cell_type": "code",
   "execution_count": 33,
   "metadata": {},
   "outputs": [
    {
     "name": "stdout",
     "output_type": "stream",
     "text": [
      "(86403, 121124) <class 'scipy.sparse.csr.csr_matrix'>\n"
     ]
    }
   ],
   "source": [
    "# 2. Text vectorization.\n",
    "\n",
    "X = df['Tweet_clean'].values\n",
    "\n",
    "y = df['Party'].values\n",
    "\n",
    "vectorizer = TfidfVectorizer()\n",
    "\n",
    "vectorizer.fit(X)\n",
    "\n",
    "X = vectorizer.transform(X)\n",
    "\n",
    "print(X.shape, type(X))\n"
   ]
  },
  {
   "cell_type": "code",
   "execution_count": 34,
   "metadata": {},
   "outputs": [],
   "source": [
    "# 3. Split our data into training and testing sets.\n",
    "\n",
    "X_train, X_test, y_train, y_test = train_test_split(\n",
    "    X, y, test_size=0.2, random_state=42)\n",
    "\n",
    "X_train_text = X_train\n",
    "X_test_text = X_test\n"
   ]
  },
  {
   "cell_type": "markdown",
   "metadata": {},
   "source": [
    "____\n",
    "## #3 Build and Train Model\n",
    "\n",
    "Use the Multinomial Naive Bayes classifier to classify these documents. \n",
    "\n",
    "1. Make a dictionary of the targeted parameters of the Multinomial Naive Bayes classifier.\n",
    "2. Initalize your GridSearchCV with a Multinomial Naive Bayes classifier, your param_grid, and what you are optimizing for.\n",
    "3. Fit your GridSearchCV with your training data.\n",
    "4. Print the parameters of your best model.\n",
    "\n",
    "Experiment with different alphas.  Use the alpha gives you the best result.\n"
   ]
  },
  {
   "cell_type": "code",
   "execution_count": 35,
   "metadata": {},
   "outputs": [],
   "source": [
    "# 1. Make a dictionary of the targeted parameters of the Multinomial Naive Bayes classifier.\n",
    "\n",
    "params = {\n",
    "    'alpha': [x / 10 for x in range(1, 11)],\n",
    "    'fit_prior': [True, False]\n",
    "         }\n"
   ]
  },
  {
   "cell_type": "code",
   "execution_count": 36,
   "metadata": {},
   "outputs": [],
   "source": [
    "# 2. Initalize your GridSearchCV with a Multinomial Naive Bayes classifier, your param_grid, and what you are optimizing for.\n",
    "#    Choose any of the five optimization strategies; accuracy, precision, recall, f1, or roc_auc.\n",
    "\n",
    "grid_search_cv =  GridSearchCV( \n",
    "    estimator = MultinomialNB(), \n",
    "    param_grid = params, \n",
    "    scoring = 'f1_weighted',\n",
    "    return_train_score = True)\n"
   ]
  },
  {
   "cell_type": "code",
   "execution_count": 37,
   "metadata": {},
   "outputs": [
    {
     "data": {
      "text/plain": [
       "GridSearchCV(estimator=MultinomialNB(),\n",
       "             param_grid={'alpha': [0.1, 0.2, 0.3, 0.4, 0.5, 0.6, 0.7, 0.8, 0.9,\n",
       "                                   1.0],\n",
       "                         'fit_prior': [True, False]},\n",
       "             return_train_score=True, scoring='f1_weighted')"
      ]
     },
     "execution_count": 37,
     "metadata": {},
     "output_type": "execute_result"
    }
   ],
   "source": [
    "# 3. Fit your GridSearchCV with your training data.\n",
    "\n",
    "grid_search_cv.fit(X_train, y_train)\n"
   ]
  },
  {
   "cell_type": "code",
   "execution_count": 38,
   "metadata": {},
   "outputs": [
    {
     "name": "stdout",
     "output_type": "stream",
     "text": [
      "{'alpha': 0.1, 'fit_prior': True}\n"
     ]
    }
   ],
   "source": [
    "# 4. Print the parameters of your best model. \n",
    "#    Print the best parameters it found.\n",
    "\n",
    "print(grid_search_cv.best_params_)\n"
   ]
  },
  {
   "cell_type": "markdown",
   "metadata": {},
   "source": [
    "___\n",
    "## #4 Evaluate Model\n",
    "\n",
    "1. Make new predicitions using our test data.\n",
    "2. Print the accuracy of the model.\n",
    "3. Print the confusion matrix of our predictions.\n",
    "4. Using `classification_report` print the evaluation results for all the classes.\n"
   ]
  },
  {
   "cell_type": "code",
   "execution_count": 39,
   "metadata": {},
   "outputs": [],
   "source": [
    "# 1. Make new predictions of our testing data.\n",
    "\n",
    "y_pred = grid_search_cv.predict(X_test)\n",
    "\n",
    "y_pred_proba = grid_search_cv.predict_proba(X_test)\n"
   ]
  },
  {
   "cell_type": "code",
   "execution_count": 40,
   "metadata": {},
   "outputs": [
    {
     "name": "stdout",
     "output_type": "stream",
     "text": [
      "Model Accuracy: 0.816105\n"
     ]
    }
   ],
   "source": [
    "# 2. Print the accuracy of the model.\n",
    "accuracy = grid_search_cv.score(X_test, y_test)\n",
    "\n",
    "print('Model Accuracy: %f' % accuracy)\n"
   ]
  },
  {
   "cell_type": "code",
   "execution_count": 41,
   "metadata": {},
   "outputs": [
    {
     "data": {
      "text/plain": [
       "<sklearn.metrics._plot.confusion_matrix.ConfusionMatrixDisplay at 0x23245505880>"
      ]
     },
     "execution_count": 41,
     "metadata": {},
     "output_type": "execute_result"
    },
    {
     "data": {
      "image/png": "[encoded data removed]",
      "text/plain": [
       "<Figure size 1512x1512 with 2 Axes>"
      ]
     },
     "metadata": {
      "needs_background": "light"
     },
     "output_type": "display_data"
    }
   ],
   "source": [
    "# 3. Plot the confusion matrix of our predictions.\n",
    "fig, ax = plt.subplots(figsize=(21, 21))\n",
    "\n",
    "disp = ConfusionMatrixDisplay.from_estimator(grid_search_cv, X_test, y_test,\n",
    "                             display_labels=grid_search_cv.classes_,\n",
    "                             cmap=plt.cm.Blues, ax=ax)\n",
    "plt.xticks(rotation=90)\n",
    "disp\n"
   ]
  },
  {
   "cell_type": "code",
   "execution_count": 42,
   "metadata": {},
   "outputs": [
    {
     "name": "stdout",
     "output_type": "stream",
     "text": [
      "              precision    recall  f1-score   support\n",
      "\n",
      "    Democrat       0.82      0.80      0.81      8407\n",
      "  Republican       0.81      0.84      0.82      8874\n",
      "\n",
      "    accuracy                           0.82     17281\n",
      "   macro avg       0.82      0.82      0.82     17281\n",
      "weighted avg       0.82      0.82      0.82     17281\n",
      "\n"
     ]
    }
   ],
   "source": [
    "# 4. Using `classification_report` print the evaluation results for all the classes.\n",
    "\n",
    "print(classification_report(y_test, y_pred, target_names=grid_search_cv.classes_))\n"
   ]
  }
 ],
 "metadata": {
  "kernelspec": {
   "display_name": "Python 3 (ipykernel)",
   "language": "python",
   "name": "python3"
  },
  "language_info": {
   "codemirror_mode": {
    "name": "ipython",
    "version": 3
   },
   "file_extension": ".py",
   "mimetype": "text/x-python",
   "name": "python",
   "nbconvert_exporter": "python",
   "pygments_lexer": "ipython3",
   "version": "3.9.12"
  }
 },
 "nbformat": 4,
 "nbformat_minor": 2
}
