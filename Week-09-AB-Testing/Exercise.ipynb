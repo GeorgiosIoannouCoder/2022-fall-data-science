{
 "cells": [
  {
   "cell_type": "markdown",
   "id": "4b0b2209",
   "metadata": {},
   "source": [
    "# Ioannou_Georgios\n"
   ]
  },
  {
   "cell_type": "markdown",
   "id": "05b759df",
   "metadata": {},
   "source": [
    "## Copyright © 2022 by Georgios Ioannou\n"
   ]
  },
  {
   "cell_type": "markdown",
   "id": "marine-stock",
   "metadata": {},
   "source": [
    "___\n",
    "<h1 align=\"center\"> A/B Testing </h1>\n",
    "\n",
    "## Prompt\n",
    "\n",
    "> Let’s imagine you work on the For You Page at TikTok. Your team decides that instead of a heart button, they want to change it to star hoping that it will lead to a higher engagement/like rate. The product manager told you that the current conversion rate is about 6% on average throughout the year, and that the team would be happy with an increase of 3%, meaning that the new design will be considered a success if it raises the engagement rate to 9%.\n",
    "\n",
    "> Before rolling out the change, the team would be more comfortable testing it on a small number of users to see how it performs, so you suggest running an A/B test on a subset of the user base users.\n"
   ]
  },
  {
   "cell_type": "markdown",
   "id": "ea02af76",
   "metadata": {},
   "source": [
    "___\n",
    "<h2 align=\"center\"> Libraries </h2>\n"
   ]
  },
  {
   "cell_type": "code",
   "execution_count": 1,
   "id": "streaming-honor",
   "metadata": {},
   "outputs": [],
   "source": [
    "# Import libraries.\n",
    "\n",
    "%matplotlib inline\n",
    "\n",
    "import matplotlib.pyplot as plt     # Plotting/Visualization.\n",
    "import numpy as np                  # Data wrangling.\n",
    "import pandas as pd                 # Data handling.\n",
    "import scipy.stats as stats         # Probability distributions & statistical functions.\n",
    "import seaborn as sns               # Plotting/Visualization.\n",
    "import statsmodels.stats.api as sms # Estimating statistical models.\n",
    "\n",
    "from math import ceil # Rounding function.\n",
    "# Test for proportions based on normal (z) test and confidence interval for a binomial proportion.\n",
    "from statsmodels.stats.proportion import proportions_ztest, proportion_confint\n",
    "sns.set()\n"
   ]
  },
  {
   "cell_type": "markdown",
   "id": "seeing-worse",
   "metadata": {},
   "source": [
    "___\n",
    "<h2 align=\"center\"> Sample Size Calculation </h2>\n"
   ]
  },
  {
   "cell_type": "code",
   "execution_count": 2,
   "id": "popular-permit",
   "metadata": {},
   "outputs": [],
   "source": [
    "# Calculate effect size based on our expected rates.\n",
    "\n",
    "effect_size = sms.proportion_effectsize(0.06, 0.09)\n"
   ]
  },
  {
   "cell_type": "code",
   "execution_count": 3,
   "id": "moving-regression",
   "metadata": {},
   "outputs": [
    {
     "name": "stdout",
     "output_type": "stream",
     "text": [
      "Sample size needed =  1199\n"
     ]
    }
   ],
   "source": [
    "# Calculate sample size needed.\n",
    "\n",
    "required_n = sms.NormalIndPower().solve_power(\n",
    "    effect_size,\n",
    "    power = 0.8,\n",
    "    alpha = 0.05,\n",
    "    ratio = 1\n",
    "    )\n",
    "\n",
    "# Round up to next integer.\n",
    "\n",
    "required_n = ceil(required_n)\n",
    "\n",
    "# Print/Display/Return the sample size needed.\n",
    "print('Sample size needed = ', required_n)\n"
   ]
  },
  {
   "cell_type": "markdown",
   "id": "crucial-editing",
   "metadata": {},
   "source": [
    "___\n",
    "<h2 align=\"center\"> Collecting and Preparing the Data </h2>\n"
   ]
  },
  {
   "cell_type": "code",
   "execution_count": 4,
   "id": "literary-separate",
   "metadata": {},
   "outputs": [
    {
     "data": {
      "text/html": [
       "<div>\n",
       "<style scoped>\n",
       "    .dataframe tbody tr th:only-of-type {\n",
       "        vertical-align: middle;\n",
       "    }\n",
       "\n",
       "    .dataframe tbody tr th {\n",
       "        vertical-align: top;\n",
       "    }\n",
       "\n",
       "    .dataframe thead th {\n",
       "        text-align: right;\n",
       "    }\n",
       "</style>\n",
       "<table border=\"1\" class=\"dataframe\">\n",
       "  <thead>\n",
       "    <tr style=\"text-align: right;\">\n",
       "      <th></th>\n",
       "      <th>user_id</th>\n",
       "      <th>timestamp</th>\n",
       "      <th>group</th>\n",
       "      <th>button</th>\n",
       "      <th>liked</th>\n",
       "    </tr>\n",
       "  </thead>\n",
       "  <tbody>\n",
       "    <tr>\n",
       "      <th>0</th>\n",
       "      <td>767017</td>\n",
       "      <td>2017-01-12 22:58:15</td>\n",
       "      <td>control</td>\n",
       "      <td>star</td>\n",
       "      <td>0</td>\n",
       "    </tr>\n",
       "    <tr>\n",
       "      <th>1</th>\n",
       "      <td>793849</td>\n",
       "      <td>2017-01-23 22:36:11</td>\n",
       "      <td>treatment</td>\n",
       "      <td>star</td>\n",
       "      <td>0</td>\n",
       "    </tr>\n",
       "    <tr>\n",
       "      <th>2</th>\n",
       "      <td>905617</td>\n",
       "      <td>2017-01-20 14:12:19</td>\n",
       "      <td>treatment</td>\n",
       "      <td>star</td>\n",
       "      <td>0</td>\n",
       "    </tr>\n",
       "    <tr>\n",
       "      <th>3</th>\n",
       "      <td>746742</td>\n",
       "      <td>2017-01-23 11:38:30</td>\n",
       "      <td>control</td>\n",
       "      <td>heart</td>\n",
       "      <td>0</td>\n",
       "    </tr>\n",
       "    <tr>\n",
       "      <th>4</th>\n",
       "      <td>892356</td>\n",
       "      <td>2017-01-05 9:35:15</td>\n",
       "      <td>treatment</td>\n",
       "      <td>star</td>\n",
       "      <td>1</td>\n",
       "    </tr>\n",
       "  </tbody>\n",
       "</table>\n",
       "</div>"
      ],
      "text/plain": [
       "   user_id            timestamp      group button  liked\n",
       "0   767017  2017-01-12 22:58:15    control   star      0\n",
       "1   793849  2017-01-23 22:36:11  treatment   star      0\n",
       "2   905617  2017-01-20 14:12:19  treatment   star      0\n",
       "3   746742  2017-01-23 11:38:30    control  heart      0\n",
       "4   892356   2017-01-05 9:35:15  treatment   star      1"
      ]
     },
     "execution_count": 4,
     "metadata": {},
     "output_type": "execute_result"
    }
   ],
   "source": [
    "# Load the tiktok_data.csv into a dataframe.\n",
    "\n",
    "# Read the file tiktok_data.csv located inside the data folder and then load the data.\n",
    "\n",
    "df = pd.read_csv('data/tiktok_data.csv')\n",
    "\n",
    "\n",
    "# Print/Display/Return the first 5 rows of the file tiktok_data.csv to make sure the file was loaded successfully.\n",
    "\n",
    "df.head()\n"
   ]
  },
  {
   "cell_type": "code",
   "execution_count": 5,
   "id": "98175174",
   "metadata": {},
   "outputs": [
    {
     "data": {
      "text/plain": [
       "(275781, 5)"
      ]
     },
     "execution_count": 5,
     "metadata": {},
     "output_type": "execute_result"
    }
   ],
   "source": [
    "# Print the shape.\n",
    "\n",
    "df.shape\n"
   ]
  },
  {
   "cell_type": "code",
   "execution_count": 6,
   "id": "0d6d4a06",
   "metadata": {},
   "outputs": [
    {
     "name": "stdout",
     "output_type": "stream",
     "text": [
      "NULLS\n",
      "user_id      0\n",
      "timestamp    0\n",
      "group        0\n",
      "button       0\n",
      "liked        0\n",
      "dtype: int64 \n",
      "\n",
      "Duplicates\n",
      "df.duplicated().sum() = 0\n"
     ]
    }
   ],
   "source": [
    "# Inspect / remove nulls and duplicates.\n",
    "\n",
    "print('NULLS')\n",
    "print(df.isnull().sum(), '\\n')\n",
    "print('Duplicates')\n",
    "print('df.duplicated().sum() =', df.duplicated().sum())\n"
   ]
  },
  {
   "cell_type": "code",
   "execution_count": 7,
   "id": "described-matrix",
   "metadata": {},
   "outputs": [
    {
     "name": "stdout",
     "output_type": "stream",
     "text": [
      "<class 'pandas.core.frame.DataFrame'>\n",
      "RangeIndex: 275781 entries, 0 to 275780\n",
      "Data columns (total 5 columns):\n",
      " #   Column     Non-Null Count   Dtype \n",
      "---  ------     --------------   ----- \n",
      " 0   user_id    275781 non-null  int64 \n",
      " 1   timestamp  275781 non-null  object\n",
      " 2   group      275781 non-null  object\n",
      " 3   button     275781 non-null  object\n",
      " 4   liked      275781 non-null  int64 \n",
      "dtypes: int64(2), object(3)\n",
      "memory usage: 10.5+ MB\n"
     ]
    }
   ],
   "source": [
    "# Get the info of the dataframe.\n",
    "\n",
    "df.info()\n"
   ]
  },
  {
   "cell_type": "code",
   "execution_count": 8,
   "id": "metallic-providence",
   "metadata": {},
   "outputs": [
    {
     "data": {
      "text/html": [
       "<div>\n",
       "<style scoped>\n",
       "    .dataframe tbody tr th:only-of-type {\n",
       "        vertical-align: middle;\n",
       "    }\n",
       "\n",
       "    .dataframe tbody tr th {\n",
       "        vertical-align: top;\n",
       "    }\n",
       "\n",
       "    .dataframe thead th {\n",
       "        text-align: right;\n",
       "    }\n",
       "</style>\n",
       "<table border=\"1\" class=\"dataframe\">\n",
       "  <thead>\n",
       "    <tr style=\"text-align: right;\">\n",
       "      <th>button</th>\n",
       "      <th>heart</th>\n",
       "      <th>star</th>\n",
       "    </tr>\n",
       "    <tr>\n",
       "      <th>group</th>\n",
       "      <th></th>\n",
       "      <th></th>\n",
       "    </tr>\n",
       "  </thead>\n",
       "  <tbody>\n",
       "    <tr>\n",
       "      <th>control</th>\n",
       "      <td>136002</td>\n",
       "      <td>1816</td>\n",
       "    </tr>\n",
       "    <tr>\n",
       "      <th>treatment</th>\n",
       "      <td>1855</td>\n",
       "      <td>136108</td>\n",
       "    </tr>\n",
       "  </tbody>\n",
       "</table>\n",
       "</div>"
      ],
      "text/plain": [
       "button      heart    star\n",
       "group                    \n",
       "control    136002    1816\n",
       "treatment    1855  136108"
      ]
     },
     "execution_count": 8,
     "metadata": {},
     "output_type": "execute_result"
    }
   ],
   "source": [
    "# Make sure all the control group are seeing the star button and viceversa.\n",
    "\n",
    "pd.crosstab(df['group'], df['button'])\n"
   ]
  },
  {
   "cell_type": "code",
   "execution_count": 9,
   "id": "fancy-lucas",
   "metadata": {},
   "outputs": [
    {
     "name": "stdout",
     "output_type": "stream",
     "text": [
      "3453 users have been sampled multiple times.\n"
     ]
    }
   ],
   "source": [
    "# Check that no users have been sampled multiple times.\n",
    "\n",
    "session_counts = df['user_id'].value_counts(ascending = False)\n",
    "multi_users = session_counts[session_counts > 1].count()\n",
    "\n",
    "print(multi_users, 'users have been sampled multiple times.')\n"
   ]
  },
  {
   "cell_type": "code",
   "execution_count": 10,
   "id": "appreciated-thomas",
   "metadata": {},
   "outputs": [],
   "source": [
    "# If there are users who have been sampled multiple times, remove them from the dataframe.\n",
    "\n",
    "users_to_drop = session_counts[session_counts > 1].index\n",
    "\n",
    "df = df[~df['user_id'].isin(users_to_drop)]\n"
   ]
  },
  {
   "cell_type": "code",
   "execution_count": 11,
   "id": "80724a1b",
   "metadata": {},
   "outputs": [
    {
     "data": {
      "text/plain": [
       "(268875, 5)"
      ]
     },
     "execution_count": 11,
     "metadata": {},
     "output_type": "execute_result"
    }
   ],
   "source": [
    "# Print the shape.\n",
    "\n",
    "df.shape\n"
   ]
  },
  {
   "cell_type": "markdown",
   "id": "skilled-apple",
   "metadata": {},
   "source": [
    "___\n",
    "### Now that our DataFrame is nice and clean, we can proceed and sample n=4720 entries for each of the groups. We can use pandas' DataFrame.sample() method to do this, which will perform Simple Random Sampling for us.\n"
   ]
  },
  {
   "cell_type": "code",
   "execution_count": 12,
   "id": "absolute-runner",
   "metadata": {},
   "outputs": [],
   "source": [
    "# Perform simple random sampling to split the data into control and treatment.\n",
    "\n",
    "control_sample = df[df['group'] == 'control'].sample(n = required_n, random_state = 22)\n",
    "treatment_sample = df[df['group'] == 'treatment'].sample(n = required_n, random_state = 22)\n"
   ]
  },
  {
   "cell_type": "code",
   "execution_count": 13,
   "id": "durable-belfast",
   "metadata": {},
   "outputs": [
    {
     "data": {
      "text/html": [
       "<div>\n",
       "<style scoped>\n",
       "    .dataframe tbody tr th:only-of-type {\n",
       "        vertical-align: middle;\n",
       "    }\n",
       "\n",
       "    .dataframe tbody tr th {\n",
       "        vertical-align: top;\n",
       "    }\n",
       "\n",
       "    .dataframe thead th {\n",
       "        text-align: right;\n",
       "    }\n",
       "</style>\n",
       "<table border=\"1\" class=\"dataframe\">\n",
       "  <thead>\n",
       "    <tr style=\"text-align: right;\">\n",
       "      <th></th>\n",
       "      <th>user_id</th>\n",
       "      <th>timestamp</th>\n",
       "      <th>group</th>\n",
       "      <th>button</th>\n",
       "      <th>liked</th>\n",
       "    </tr>\n",
       "  </thead>\n",
       "  <tbody>\n",
       "    <tr>\n",
       "      <th>0</th>\n",
       "      <td>644761</td>\n",
       "      <td>2017-01-20 5:19:16</td>\n",
       "      <td>control</td>\n",
       "      <td>heart</td>\n",
       "      <td>0</td>\n",
       "    </tr>\n",
       "    <tr>\n",
       "      <th>1</th>\n",
       "      <td>856804</td>\n",
       "      <td>2017-01-02 23:19:00</td>\n",
       "      <td>control</td>\n",
       "      <td>heart</td>\n",
       "      <td>0</td>\n",
       "    </tr>\n",
       "    <tr>\n",
       "      <th>2</th>\n",
       "      <td>728826</td>\n",
       "      <td>2017-01-03 4:16:37</td>\n",
       "      <td>control</td>\n",
       "      <td>heart</td>\n",
       "      <td>0</td>\n",
       "    </tr>\n",
       "    <tr>\n",
       "      <th>3</th>\n",
       "      <td>865441</td>\n",
       "      <td>2017-01-19 3:59:57</td>\n",
       "      <td>control</td>\n",
       "      <td>heart</td>\n",
       "      <td>0</td>\n",
       "    </tr>\n",
       "    <tr>\n",
       "      <th>4</th>\n",
       "      <td>796969</td>\n",
       "      <td>2017-01-05 4:08:26</td>\n",
       "      <td>control</td>\n",
       "      <td>heart</td>\n",
       "      <td>0</td>\n",
       "    </tr>\n",
       "    <tr>\n",
       "      <th>...</th>\n",
       "      <td>...</td>\n",
       "      <td>...</td>\n",
       "      <td>...</td>\n",
       "      <td>...</td>\n",
       "      <td>...</td>\n",
       "    </tr>\n",
       "    <tr>\n",
       "      <th>2393</th>\n",
       "      <td>647852</td>\n",
       "      <td>2017-01-16 4:47:04</td>\n",
       "      <td>treatment</td>\n",
       "      <td>star</td>\n",
       "      <td>0</td>\n",
       "    </tr>\n",
       "    <tr>\n",
       "      <th>2394</th>\n",
       "      <td>814529</td>\n",
       "      <td>2017-01-15 1:01:37</td>\n",
       "      <td>treatment</td>\n",
       "      <td>star</td>\n",
       "      <td>1</td>\n",
       "    </tr>\n",
       "    <tr>\n",
       "      <th>2395</th>\n",
       "      <td>924465</td>\n",
       "      <td>2017-01-13 8:37:42</td>\n",
       "      <td>treatment</td>\n",
       "      <td>star</td>\n",
       "      <td>0</td>\n",
       "    </tr>\n",
       "    <tr>\n",
       "      <th>2396</th>\n",
       "      <td>660778</td>\n",
       "      <td>2017-01-12 1:55:29</td>\n",
       "      <td>treatment</td>\n",
       "      <td>star</td>\n",
       "      <td>0</td>\n",
       "    </tr>\n",
       "    <tr>\n",
       "      <th>2397</th>\n",
       "      <td>868855</td>\n",
       "      <td>2017-01-12 20:23:56</td>\n",
       "      <td>treatment</td>\n",
       "      <td>star</td>\n",
       "      <td>0</td>\n",
       "    </tr>\n",
       "  </tbody>\n",
       "</table>\n",
       "<p>2398 rows × 5 columns</p>\n",
       "</div>"
      ],
      "text/plain": [
       "      user_id            timestamp      group button  liked\n",
       "0      644761   2017-01-20 5:19:16    control  heart      0\n",
       "1      856804  2017-01-02 23:19:00    control  heart      0\n",
       "2      728826   2017-01-03 4:16:37    control  heart      0\n",
       "3      865441   2017-01-19 3:59:57    control  heart      0\n",
       "4      796969   2017-01-05 4:08:26    control  heart      0\n",
       "...       ...                  ...        ...    ...    ...\n",
       "2393   647852   2017-01-16 4:47:04  treatment   star      0\n",
       "2394   814529   2017-01-15 1:01:37  treatment   star      1\n",
       "2395   924465   2017-01-13 8:37:42  treatment   star      0\n",
       "2396   660778   2017-01-12 1:55:29  treatment   star      0\n",
       "2397   868855  2017-01-12 20:23:56  treatment   star      0\n",
       "\n",
       "[2398 rows x 5 columns]"
      ]
     },
     "execution_count": 13,
     "metadata": {},
     "output_type": "execute_result"
    }
   ],
   "source": [
    "# Create one table called ab_test that has both the cleaned control and treatment data.\n",
    "\n",
    "ab_test = pd.concat([control_sample, treatment_sample], axis = 0)\n",
    "ab_test.reset_index(drop = True, inplace = True)\n",
    "ab_test\n"
   ]
  },
  {
   "cell_type": "code",
   "execution_count": 14,
   "id": "conservative-occasions",
   "metadata": {},
   "outputs": [
    {
     "data": {
      "text/plain": [
       "control      1199\n",
       "treatment    1199\n",
       "Name: group, dtype: int64"
      ]
     },
     "execution_count": 14,
     "metadata": {},
     "output_type": "execute_result"
    }
   ],
   "source": [
    "# Count the test groups to make sure that they are balanced.\n",
    "\n",
    "ab_test['group'].value_counts()\n"
   ]
  },
  {
   "cell_type": "markdown",
   "id": "metric-skill",
   "metadata": {},
   "source": [
    "___\n",
    "<h2 align=\"center\"> Analysis Visualization </h2>\n"
   ]
  },
  {
   "cell_type": "code",
   "execution_count": 15,
   "id": "satisfied-victoria",
   "metadata": {},
   "outputs": [
    {
     "data": {
      "text/html": [
       "<style type=\"text/css\">\n",
       "</style>\n",
       "<table id=\"T_8d42b\">\n",
       "  <thead>\n",
       "    <tr>\n",
       "      <th class=\"blank level0\" >&nbsp;</th>\n",
       "      <th id=\"T_8d42b_level0_col0\" class=\"col_heading level0 col0\" >conversion_rate</th>\n",
       "      <th id=\"T_8d42b_level0_col1\" class=\"col_heading level0 col1\" >std_deviation</th>\n",
       "      <th id=\"T_8d42b_level0_col2\" class=\"col_heading level0 col2\" >std_error</th>\n",
       "    </tr>\n",
       "    <tr>\n",
       "      <th class=\"index_name level0\" >group</th>\n",
       "      <th class=\"blank col0\" >&nbsp;</th>\n",
       "      <th class=\"blank col1\" >&nbsp;</th>\n",
       "      <th class=\"blank col2\" >&nbsp;</th>\n",
       "    </tr>\n",
       "  </thead>\n",
       "  <tbody>\n",
       "    <tr>\n",
       "      <th id=\"T_8d42b_level0_row0\" class=\"row_heading level0 row0\" >control</th>\n",
       "      <td id=\"T_8d42b_row0_col0\" class=\"data row0 col0\" >0.109</td>\n",
       "      <td id=\"T_8d42b_row0_col1\" class=\"data row0 col1\" >0.312</td>\n",
       "      <td id=\"T_8d42b_row0_col2\" class=\"data row0 col2\" >0.009</td>\n",
       "    </tr>\n",
       "    <tr>\n",
       "      <th id=\"T_8d42b_level0_row1\" class=\"row_heading level0 row1\" >treatment</th>\n",
       "      <td id=\"T_8d42b_row1_col0\" class=\"data row1 col0\" >0.118</td>\n",
       "      <td id=\"T_8d42b_row1_col1\" class=\"data row1 col1\" >0.323</td>\n",
       "      <td id=\"T_8d42b_row1_col2\" class=\"data row1 col2\" >0.009</td>\n",
       "    </tr>\n",
       "  </tbody>\n",
       "</table>\n"
      ],
      "text/plain": [
       "<pandas.io.formats.style.Styler at 0x2b94733d250>"
      ]
     },
     "execution_count": 15,
     "metadata": {},
     "output_type": "execute_result"
    }
   ],
   "source": [
    "# Find the like rate by group.\n",
    "\n",
    "like_rates = ab_test.groupby('group')['liked']\n",
    "\n",
    "# Find the standard deviation of the proportion.\n",
    "\n",
    "std_p = lambda x: np.std(x, ddof = 0) \n",
    "\n",
    "# Find the standard error of the proportion (std / sqrt(n)).\n",
    "\n",
    "se_p = lambda x: stats.sem(x, ddof = 0)\n",
    "\n",
    "# Calculate the final like rate.\n",
    "\n",
    "like_rates = like_rates.agg([np.mean, std_p, se_p])\n",
    "like_rates.columns = ['conversion_rate', 'std_deviation', 'std_error']\n",
    "like_rates.style.format('{:.3f}')\n"
   ]
  },
  {
   "cell_type": "code",
   "execution_count": 16,
   "id": "reflected-ecology",
   "metadata": {},
   "outputs": [
    {
     "data": {
      "image/png": "[encoded data removed]",
      "text/plain": [
       "<Figure size 720x576 with 1 Axes>"
      ]
     },
     "metadata": {},
     "output_type": "display_data"
    }
   ],
   "source": [
    "# Plot the like rate by group on a bar plot.\n",
    "\n",
    "plt.figure(figsize = (10, 8))\n",
    "\n",
    "sns.barplot(x = ab_test['group'], y = ab_test['liked'], ci = False)\n",
    "\n",
    "plt.ylim(0, 0.17)\n",
    "plt.title('Like Rate by Group', pad = 20)\n",
    "plt.xlabel('Group', labelpad = 15)\n",
    "plt.ylabel('Like (proportion)', labelpad = 15);\n"
   ]
  },
  {
   "cell_type": "markdown",
   "id": "adolescent-footage",
   "metadata": {},
   "source": [
    "___\n",
    "<h2 align=\"center\"> Testing for Statistical Significance </h2>\n"
   ]
  },
  {
   "cell_type": "code",
   "execution_count": 17,
   "id": "precious-chicken",
   "metadata": {},
   "outputs": [],
   "source": [
    "# Get the like count for both control and treatment groups.\n",
    "\n",
    "control_results = ab_test[ab_test['group'] == 'control']['liked']\n",
    "treatment_results = ab_test[ab_test['group'] == 'treatment']['liked']\n",
    "\n",
    "# Get the number of samples in both groups.\n",
    "\n",
    "n_control = control_results.count()\n",
    "n_treatment = treatment_results.count()\n",
    "\n",
    "# Sum up the number of successes (likes) in both groups.\n",
    "\n",
    "successes = [control_results.sum(), treatment_results.sum()]\n",
    "nobs = [n_control, n_treatment]\n"
   ]
  },
  {
   "cell_type": "code",
   "execution_count": 18,
   "id": "lesbian-emperor",
   "metadata": {},
   "outputs": [],
   "source": [
    "# Find the z statistic and p value for proportions based on normal ztest.\n",
    "\n",
    "z_stat, p_val = proportions_ztest(successes, nobs = nobs)\n",
    "\n",
    "# Find the confidence intervals for each test group.\n",
    "\n",
    "(lower_control, lower_treatment), (upper_control, upper_treatment) = proportion_confint(successes, nobs = nobs, alpha = 0.05)\n"
   ]
  },
  {
   "cell_type": "code",
   "execution_count": 19,
   "id": "filled-quality",
   "metadata": {},
   "outputs": [
    {
     "name": "stdout",
     "output_type": "stream",
     "text": [
      "z statistic: -0.71\n",
      "p-value: 0.479\n",
      "ci 95% for control group: [0.092, 0.127]\n",
      "ci 95% for treatment group: [0.100, 0.137]\n"
     ]
    }
   ],
   "source": [
    "# Print z statistic.\n",
    "\n",
    "print(f'z statistic: {z_stat:.2f}')\n",
    "\n",
    "# Print p-value.\n",
    "\n",
    "print(f'p-value: {p_val:.3f}')\n",
    "\n",
    "\n",
    "# Print ci 95% for control group.\n",
    "\n",
    "print(f'ci 95% for control group: [{lower_control:.3f}, {upper_control:.3f}]')\n",
    "\n",
    "\n",
    "# Print ci 95% for treatment group.\n",
    "\n",
    "print(f'ci 95% for treatment group: [{lower_treatment:.3f}, {upper_treatment:.3f}]')\n",
    "\n"
   ]
  },
  {
   "cell_type": "markdown",
   "id": "closing-technique",
   "metadata": {},
   "source": [
    "___\n",
    "<h1 align=\"center\"> <span style=\"color:#FFA500\"> Were the results significant? </span> </h1>\n",
    "\n",
    "___\n",
    "<h2 align=\"center\"> <span style=\"color:#964B00\"> Since the p-value = 0.479 which is a lot larger than the alpha value (α = 0.05) threshold, the results extremely significant. <br/><br/> The difference between the two values is (0.479 - 0.05 = 0.429). <br/><br/> The p-value is about <i> 9.5 </i> larger than the alpha value. </span> </h2>\n",
    "\n",
    "___\n"
   ]
  },
  {
   "cell_type": "markdown",
   "id": "connected-tiffany",
   "metadata": {},
   "source": [
    "___\n",
    "<h1 align=\"center\"> <span style=\"color:#FFA500\"> What would you advise the engineering team to do moving forward? </span> </h1>\n",
    "\n",
    "___\n",
    "<h2 align=\"center\"> <span style=\"color:#964B00\"> Since the p-value is a lot larger than the alpha value we accept the null hypothesis H<sub>0</sub> (<i> heart </i>) and thus reject the alternative hypothesis H<sub>A</sub> (<i> star </i>). <br/><br/> The p-value is not sufficient enough to support the alternative hypothesis H<sub>A</sub>. <br/><br/> If we look at the confidence interval for the control group ([0.092, 0.127], or 9.2 - 12.7%) we notice that tt does include our target value of 9% (the 3% uplift we were aiming for).\n",
    " <br/><br/> Therefore, I would advise the engineering team to stay with the old design of the heart button. </span> </h2>\n",
    "\n",
    "___\n"
   ]
  }
 ],
 "metadata": {
  "kernelspec": {
   "display_name": "Python 3 (ipykernel)",
   "language": "python",
   "name": "python3"
  },
  "language_info": {
   "codemirror_mode": {
    "name": "ipython",
    "version": 3
   },
   "file_extension": ".py",
   "mimetype": "text/x-python",
   "name": "python",
   "nbconvert_exporter": "python",
   "pygments_lexer": "ipython3",
   "version": "3.9.12"
  }
 },
 "nbformat": 4,
 "nbformat_minor": 5
}
